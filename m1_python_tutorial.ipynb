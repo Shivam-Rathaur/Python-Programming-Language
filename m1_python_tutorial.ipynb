{
 "cells": [
  {
   "cell_type": "code",
   "execution_count": 1,
   "metadata": {},
   "outputs": [
    {
     "name": "stdout",
     "output_type": "stream",
     "text": [
      "Five is greater than two!\n"
     ]
    }
   ],
   "source": [
    "if 5 > 2:\n",
    "    print('Five is greater than two!')"
   ]
  },
  {
   "cell_type": "code",
   "execution_count": 2,
   "metadata": {},
   "outputs": [
    {
     "ename": "IndentationError",
     "evalue": "expected an indented block after 'if' statement on line 1 (3357700666.py, line 2)",
     "output_type": "error",
     "traceback": [
      "\u001b[1;36m  Cell \u001b[1;32mIn[2], line 2\u001b[1;36m\u001b[0m\n\u001b[1;33m    print('Five is greater than two!')\u001b[0m\n\u001b[1;37m    ^\u001b[0m\n\u001b[1;31mIndentationError\u001b[0m\u001b[1;31m:\u001b[0m expected an indented block after 'if' statement on line 1\n"
     ]
    }
   ],
   "source": [
    "if 5 > 2:\n",
    "print('Five is greater than two!')"
   ]
  },
  {
   "cell_type": "code",
   "execution_count": 6,
   "metadata": {},
   "outputs": [
    {
     "name": "stdout",
     "output_type": "stream",
     "text": [
      "Five is greater than two!\n",
      "Five is greater than two!\n"
     ]
    }
   ],
   "source": [
    "if 5 > 2:\n",
    " print('Five is greater than two!')\n",
    "\n",
    "if 5 > 2:\n",
    "        print('Five is greater than two!') "
   ]
  },
  {
   "cell_type": "code",
   "execution_count": 8,
   "metadata": {},
   "outputs": [
    {
     "ename": "IndentationError",
     "evalue": "unexpected indent (1421912243.py, line 3)",
     "output_type": "error",
     "traceback": [
      "\u001b[1;36m  Cell \u001b[1;32mIn[8], line 3\u001b[1;36m\u001b[0m\n\u001b[1;33m    print('Ten is greater than two!') # 2 spaces\u001b[0m\n\u001b[1;37m    ^\u001b[0m\n\u001b[1;31mIndentationError\u001b[0m\u001b[1;31m:\u001b[0m unexpected indent\n"
     ]
    }
   ],
   "source": [
    "if 5 > 2:\n",
    "    print('Five is greater than two!') # 4 spaces\n",
    "      print('Ten is greater than two!') # 2 spaces"
   ]
  },
  {
   "cell_type": "code",
   "execution_count": 15,
   "metadata": {},
   "outputs": [
    {
     "name": "stdout",
     "output_type": "stream",
     "text": [
      "5\n",
      "Hello, World!\n"
     ]
    }
   ],
   "source": [
    "x = 5\n",
    "y = 'Hello, World!'\n",
    "print(x)\n",
    "print(y)"
   ]
  },
  {
   "cell_type": "code",
   "execution_count": 17,
   "metadata": {},
   "outputs": [
    {
     "data": {
      "text/plain": [
       "' not a true comment '"
      ]
     },
     "execution_count": 17,
     "metadata": {},
     "output_type": "execute_result"
    }
   ],
   "source": [
    "''' not a true comment '''\n",
    "\"\"\" not a true comment \"\"\""
   ]
  },
  {
   "cell_type": "code",
   "execution_count": null,
   "metadata": {},
   "outputs": [],
   "source": [
    "# best practice \n",
    "# Use # for actual comments, and reserve triple quotes (\"\"\" \"\"\" or ''' ''') for docstrings\n",
    "# docstrings (documentation for functions, classes, and modules)"
   ]
  },
  {
   "cell_type": "code",
   "execution_count": 1,
   "metadata": {},
   "outputs": [
    {
     "name": "stdout",
     "output_type": "stream",
     "text": [
      "10\n",
      "Amit\n"
     ]
    }
   ],
   "source": [
    "x = 10\n",
    "y = 'Amit'\n",
    "print(x)\n",
    "print(y)"
   ]
  },
  {
   "cell_type": "code",
   "execution_count": null,
   "metadata": {},
   "outputs": [
    {
     "name": "stdout",
     "output_type": "stream",
     "text": [
      "10 <class 'int'>\n",
      "iith <class 'str'>\n"
     ]
    }
   ],
   "source": [
    "x = 10\n",
    "print(x, type(x))\n",
    "x = 'iith'\n",
    "print(x, type(x))"
   ]
  },
  {
   "cell_type": "code",
   "execution_count": 7,
   "metadata": {},
   "outputs": [
    {
     "name": "stdout",
     "output_type": "stream",
     "text": [
      "5 <class 'int'>\n",
      "3 <class 'str'>\n",
      "3.0\n",
      "3\n"
     ]
    }
   ],
   "source": [
    "## casting\n",
    "\n",
    "a = 5\n",
    "print(a, type(a))\n",
    "\n",
    "x = str(3)\n",
    "print(x, type(x))\n",
    "y = float(3)\n",
    "print(y)\n",
    "z = int(3)\n",
    "print(z)"
   ]
  },
  {
   "cell_type": "code",
   "execution_count": 9,
   "metadata": {},
   "outputs": [
    {
     "name": "stdout",
     "output_type": "stream",
     "text": [
      "<class 'int'>\n",
      "<class 'float'>\n",
      "<class 'str'>\n"
     ]
    }
   ],
   "source": [
    "## get the type using `type()` function\n",
    "a = 10\n",
    "print(type(a))\n",
    "b = 10.00\n",
    "print(type(b))\n",
    "x = 'consistency'\n",
    "print(type(x))"
   ]
  },
  {
   "cell_type": "code",
   "execution_count": null,
   "metadata": {},
   "outputs": [
    {
     "name": "stdout",
     "output_type": "stream",
     "text": [
      "shivam shivam\n"
     ]
    }
   ],
   "source": [
    "## string variables can be declared either using single quotes ('') or double quotes (\"\")\n",
    "x = 'shivam'\n",
    "y = \"shivam\"\n",
    "print(x, y) \n",
    "# both x and y are same"
   ]
  },
  {
   "cell_type": "code",
   "execution_count": 12,
   "metadata": {},
   "outputs": [
    {
     "name": "stdout",
     "output_type": "stream",
     "text": [
      "10.0 <class 'float'> 1800551434128\n",
      "10 <class 'int'> 140709465160408\n"
     ]
    }
   ],
   "source": [
    "## variables names are case-sensitive\n",
    "a = 10.0\n",
    "print(a, type(a), id(a))\n",
    "A = 10\n",
    "print(A, type(A), id(A))"
   ]
  },
  {
   "cell_type": "markdown",
   "metadata": {},
   "source": [
    "Variable naming rules:-\n",
    "* A variable name must start with a letter or the underscore character\n",
    "* A variable name cannot start with a number\n",
    "* A variable name can only contain alpha-numeric characters and underscores (A-z, 0-9, and _ )\n",
    "* Variable names are case-sensitive (age, Age and AGE are three different variables)\n",
    "* A variable name cannot be any of the Python keywords. "
   ]
  },
  {
   "cell_type": "code",
   "execution_count": 13,
   "metadata": {},
   "outputs": [],
   "source": [
    "## legal variable names\n",
    "myvar = \"Aryan\"\n",
    "my_var = \"Aryan\"\n",
    "_my_var = \"Aryan\"\n",
    "myVar = \"Aryan\"\n",
    "MYVAR = \"Aryan\"\n",
    "myvar2 = \"Aryan\""
   ]
  },
  {
   "cell_type": "code",
   "execution_count": 14,
   "metadata": {},
   "outputs": [
    {
     "ename": "SyntaxError",
     "evalue": "invalid decimal literal (3844466928.py, line 2)",
     "output_type": "error",
     "traceback": [
      "\u001b[1;36m  Cell \u001b[1;32mIn[14], line 2\u001b[1;36m\u001b[0m\n\u001b[1;33m    2myvar = \"Surya\"\u001b[0m\n\u001b[1;37m    ^\u001b[0m\n\u001b[1;31mSyntaxError\u001b[0m\u001b[1;31m:\u001b[0m invalid decimal literal\n"
     ]
    }
   ],
   "source": [
    "## Illegal variable names\n",
    "2myvar = \"Surya\"\n",
    "my-var = \"Surya\"\n",
    "my var = \"Surya"
   ]
  },
  {
   "cell_type": "code",
   "execution_count": 15,
   "metadata": {},
   "outputs": [],
   "source": [
    "## variable names are case sensitive"
   ]
  },
  {
   "cell_type": "markdown",
   "metadata": {},
   "source": [
    "Multi Words Variable Names\n",
    "* Camel Case\n",
    "* Pascal Case\n",
    "* Snake Case"
   ]
  },
  {
   "cell_type": "code",
   "execution_count": null,
   "metadata": {},
   "outputs": [],
   "source": [
    "myVariableName = 'surya Kumar' # camel Case\n",
    "MyVariableName = 'Surya Kumar' # Pascal Case\n",
    "my_variable_name = 'surya_kumar' # snake_case"
   ]
  },
  {
   "cell_type": "code",
   "execution_count": 16,
   "metadata": {},
   "outputs": [
    {
     "name": "stdout",
     "output_type": "stream",
     "text": [
      "apple\n",
      "banana\n",
      "mango\n"
     ]
    }
   ],
   "source": [
    "## assign values to multiple variables in one line\n",
    "x, y, z = 'apple', 'banana', 'mango'\n",
    "print(x)\n",
    "print(y)\n",
    "print(z)"
   ]
  },
  {
   "cell_type": "markdown",
   "metadata": {},
   "source": [
    "**Note**: Make sure the number of variables matches the number of values, or else you will get an error."
   ]
  },
  {
   "cell_type": "code",
   "execution_count": 17,
   "metadata": {},
   "outputs": [
    {
     "name": "stdout",
     "output_type": "stream",
     "text": [
      "grapes\n",
      "grapes\n",
      "grapes\n"
     ]
    }
   ],
   "source": [
    "## one value to multiple variables\n",
    "x = y = z = 'grapes'\n",
    "print(x)\n",
    "print(y)\n",
    "print(z)"
   ]
  },
  {
   "cell_type": "code",
   "execution_count": 18,
   "metadata": {},
   "outputs": [
    {
     "name": "stdout",
     "output_type": "stream",
     "text": [
      "apple\n",
      "banana\n",
      "mango\n"
     ]
    }
   ],
   "source": [
    "## unpacking a collection\n",
    "# A collection of values in a list, tuple etc. can be extracted into variables, called 'UNPACKING'\n",
    "fruits = ['apple', 'banana', 'mango']\n",
    "x, y, z = fruits\n",
    "print(x)\n",
    "print(y)\n",
    "print(z)"
   ]
  },
  {
   "cell_type": "code",
   "execution_count": null,
   "metadata": {},
   "outputs": [
    {
     "name": "stdout",
     "output_type": "stream",
     "text": [
      "python is awesome\n"
     ]
    }
   ],
   "source": [
    "## output variables: using `print()` function\n",
    "x = 'python is awesome'\n",
    "print(x)"
   ]
  },
  {
   "cell_type": "code",
   "execution_count": 28,
   "metadata": {},
   "outputs": [
    {
     "name": "stdout",
     "output_type": "stream",
     "text": [
      "python is awesome\n"
     ]
    }
   ],
   "source": [
    "x = 'python'\n",
    "y = 'is'\n",
    "z = 'awesome'\n",
    "print(x,y,z)"
   ]
  },
  {
   "cell_type": "code",
   "execution_count": null,
   "metadata": {},
   "outputs": [
    {
     "name": "stdout",
     "output_type": "stream",
     "text": [
      "python is awesome\n"
     ]
    }
   ],
   "source": [
    "x = 'python '\n",
    "y = 'is '\n",
    "z = 'awesome'\n",
    "print(x+y+z) # concatenation of strings"
   ]
  },
  {
   "cell_type": "code",
   "execution_count": 30,
   "metadata": {},
   "outputs": [
    {
     "name": "stdout",
     "output_type": "stream",
     "text": [
      "15\n"
     ]
    }
   ],
   "source": [
    "x = 5\n",
    "y = 10\n",
    "print(x+y)"
   ]
  },
  {
   "cell_type": "code",
   "execution_count": null,
   "metadata": {},
   "outputs": [
    {
     "ename": "TypeError",
     "evalue": "can only concatenate str (not \"int\") to str",
     "output_type": "error",
     "traceback": [
      "\u001b[1;31m---------------------------------------------------------------------------\u001b[0m",
      "\u001b[1;31mTypeError\u001b[0m                                 Traceback (most recent call last)",
      "Cell \u001b[1;32mIn[31], line 3\u001b[0m\n\u001b[0;32m      1\u001b[0m x \u001b[38;5;241m=\u001b[39m \u001b[38;5;124m'\u001b[39m\u001b[38;5;124miith\u001b[39m\u001b[38;5;124m'\u001b[39m\n\u001b[0;32m      2\u001b[0m y \u001b[38;5;241m=\u001b[39m \u001b[38;5;241m27\u001b[39m\n\u001b[1;32m----> 3\u001b[0m \u001b[38;5;28mprint\u001b[39m(\u001b[43mx\u001b[49m\u001b[38;5;241;43m+\u001b[39;49m\u001b[43my\u001b[49m)\n",
      "\u001b[1;31mTypeError\u001b[0m: can only concatenate str (not \"int\") to str"
     ]
    }
   ],
   "source": [
    "x = 'iith' # string\n",
    "y = 27 # int\n",
    "print(x+y) # type error"
   ]
  },
  {
   "cell_type": "code",
   "execution_count": 33,
   "metadata": {},
   "outputs": [
    {
     "name": "stdout",
     "output_type": "stream",
     "text": [
      "iith 27\n"
     ]
    }
   ],
   "source": [
    "x = 'iith' # string\n",
    "y = 27 # int\n",
    "print(x, y)"
   ]
  },
  {
   "cell_type": "markdown",
   "metadata": {},
   "source": [
    "Gloabal Variables\n",
    "* Variables that are created outside of a function are known as global variables.\n",
    "* Global variables can be used by everyone, both inside of functions and outside."
   ]
  },
  {
   "cell_type": "code",
   "execution_count": 41,
   "metadata": {},
   "outputs": [
    {
     "name": "stdout",
     "output_type": "stream",
     "text": [
      "My name is Shivam Rathaur\n"
     ]
    }
   ],
   "source": [
    "## Create a variable outside of a function, and use it inside the function\n",
    "\n",
    "full_name = 'Shivam Rathaur'\n",
    "\n",
    "def myfunc():\n",
    "    print('My name is', full_name) # or print('My name is ' + full_name)\n",
    "    return\n",
    "\n",
    "myfunc()"
   ]
  },
  {
   "cell_type": "markdown",
   "metadata": {},
   "source": [
    "**Note**: If we create a variable with the same name inside a function, this variable will be local, and can only be used inside the function. The global variable with the same name will remain as it was, global and with the original value."
   ]
  },
  {
   "cell_type": "code",
   "execution_count": 42,
   "metadata": {},
   "outputs": [
    {
     "name": "stdout",
     "output_type": "stream",
     "text": [
      "My name is Shivam\n",
      "My name is Shivam Rathaur\n"
     ]
    }
   ],
   "source": [
    "a = 'Shivam Rathaur'\n",
    "\n",
    "def myfunc():\n",
    "    a = 'Shivam'\n",
    "    print('My name is', a) # or print('My name is ' + a)\n",
    "    return\n",
    "\n",
    "myfunc()\n",
    "print('My name is', a)"
   ]
  },
  {
   "cell_type": "markdown",
   "metadata": {},
   "source": [
    "The Global Keyword\n",
    "- Normally, when we create a variable inside a function, that variable is local, and can only be used inside that function.\n",
    "- To create a global variable inside a function, you can use the `global` keyword.\n"
   ]
  },
  {
   "cell_type": "code",
   "execution_count": null,
   "metadata": {},
   "outputs": [
    {
     "name": "stdout",
     "output_type": "stream",
     "text": [
      "hi aman\n"
     ]
    }
   ],
   "source": [
    "## Example\n",
    "# If you use the global keyword, the variable belongs to the global scope:\n",
    "\n",
    "def myfunc():\n",
    "\n",
    "    ## global x = 'james'  # ❌ SyntaxError: invalid syntax\n",
    "    ## In Python, the global keyword is used to declare a variable inside a function as a global variable, \n",
    "    # but you cannot assign a value to a variable at the same time as declaring it global.\n",
    "    \n",
    "    global x\n",
    "    x = 'aman'\n",
    "    return\n",
    "\n",
    "myfunc() # calling the myfunc() function before using `x` variable\n",
    "\n",
    "print('hi', x)"
   ]
  },
  {
   "cell_type": "markdown",
   "metadata": {},
   "source": [
    "**Note**: use the `global` keyword if want to change a global variable inside a function."
   ]
  },
  {
   "cell_type": "code",
   "execution_count": 51,
   "metadata": {},
   "outputs": [
    {
     "name": "stdout",
     "output_type": "stream",
     "text": [
      "i love iith\n",
      "i love iith\n"
     ]
    }
   ],
   "source": [
    "x = 'iitb'\n",
    "\n",
    "def myfunc():\n",
    "    global x\n",
    "    x = 'iith'\n",
    "    print('i love', x)\n",
    "    return\n",
    "\n",
    "myfunc()\n",
    "print('i love', x)"
   ]
  },
  {
   "cell_type": "markdown",
   "metadata": {},
   "source": [
    "#### Python Built-in Data Types\n",
    "\n",
    "| **Category**       | **Data Types**                    |\n",
    "|--------------------|-----------------------------------|\n",
    "| **Text Type**      | `str`                             |\n",
    "| **Numeric Types**  | `int`, `float`, `complex`         |\n",
    "| **Sequence Types** | `list`, `tuple`, `range`          |\n",
    "| **Mapping Type**   | `dict`                            |\n",
    "| **Set Types**      | `set`, `frozenset`                |\n",
    "| **Boolean Type**   | `bool`                            |\n",
    "| **Binary Types**   | `bytes`, `bytearray`, `memoryview` |\n",
    "| **None Type**      | `NoneType`                        |\n"
   ]
  },
  {
   "cell_type": "code",
   "execution_count": 52,
   "metadata": {},
   "outputs": [
    {
     "name": "stdout",
     "output_type": "stream",
     "text": [
      "<class 'int'>\n"
     ]
    }
   ],
   "source": [
    "\n",
    "# type() function: to get the data type of any object.\n",
    "x = 15\n",
    "print(type(x))"
   ]
  },
  {
   "cell_type": "code",
   "execution_count": null,
   "metadata": {},
   "outputs": [],
   "source": [
    "## int(), str(), float(), list(), set(), tuple(), bool(), etc. -> constructor functions"
   ]
  },
  {
   "cell_type": "code",
   "execution_count": 54,
   "metadata": {},
   "outputs": [
    {
     "name": "stdout",
     "output_type": "stream",
     "text": [
      "<class 'int'>\n",
      "<class 'float'>\n",
      "<class 'complex'>\n"
     ]
    }
   ],
   "source": [
    "## python numbers\n",
    "# there are 3 numeric types in python: 1) int 2) float 3) complex\n",
    "\n",
    "x = 10\n",
    "print(type(x))\n",
    "y = 3.14\n",
    "print(type(y))\n",
    "z = 3+4j\n",
    "print(type(z))"
   ]
  },
  {
   "cell_type": "code",
   "execution_count": 56,
   "metadata": {},
   "outputs": [
    {
     "name": "stdout",
     "output_type": "stream",
     "text": [
      "3500000.0 12000000.0 -9.876e-09\n",
      "<class 'float'> <class 'float'> <class 'float'>\n"
     ]
    }
   ],
   "source": [
    "## float can also be scientific numbers with an \"e\" to indicate the power of 10\n",
    "\n",
    "x = 35e5\n",
    "y = 12E6\n",
    "z = -98.76e-10\n",
    "print(x, y, z)\n",
    "print(type(x), type(y), type(z))"
   ]
  },
  {
   "cell_type": "code",
   "execution_count": 57,
   "metadata": {},
   "outputs": [
    {
     "name": "stdout",
     "output_type": "stream",
     "text": [
      "(4-8j) 9j (1+3j)\n",
      "<class 'complex'> <class 'complex'> <class 'complex'>\n"
     ]
    }
   ],
   "source": [
    "## complex : 'j' as the imaginary part\n",
    "x = 4-8j\n",
    "y = 9j\n",
    "z = 1+3j\n",
    "print(x, y, z)\n",
    "print(type(x), type(y), type(z))"
   ]
  },
  {
   "cell_type": "markdown",
   "metadata": {},
   "source": [
    "type conversion:"
   ]
  },
  {
   "cell_type": "code",
   "execution_count": 58,
   "metadata": {},
   "outputs": [
    {
     "name": "stdout",
     "output_type": "stream",
     "text": [
      "1.0\n",
      "2\n",
      "(1+0j)\n",
      "<class 'float'>\n",
      "<class 'int'>\n",
      "<class 'complex'>\n"
     ]
    }
   ],
   "source": [
    "## Convert from one type to another:\n",
    "\n",
    "x = 1    # int\n",
    "y = 2.8  # float\n",
    "z = 1j   # complex\n",
    "\n",
    "a = float(x) # convert from int to float\n",
    "b = int(y) # convert from float to int\n",
    "c = complex(x) # convert from int to complex\n",
    "\n",
    "print(a)\n",
    "print(b)\n",
    "print(c)\n",
    "\n",
    "print(type(a))\n",
    "print(type(b))\n",
    "print(type(c))"
   ]
  },
  {
   "cell_type": "markdown",
   "metadata": {},
   "source": [
    "**Note**: Complex Numbers can't be converted into another number type."
   ]
  },
  {
   "cell_type": "code",
   "execution_count": 59,
   "metadata": {},
   "outputs": [
    {
     "ename": "TypeError",
     "evalue": "int() argument must be a string, a bytes-like object or a real number, not 'complex'",
     "output_type": "error",
     "traceback": [
      "\u001b[1;31m---------------------------------------------------------------------------\u001b[0m",
      "\u001b[1;31mTypeError\u001b[0m                                 Traceback (most recent call last)",
      "Cell \u001b[1;32mIn[59], line 2\u001b[0m\n\u001b[0;32m      1\u001b[0m x \u001b[38;5;241m=\u001b[39m \u001b[38;5;241m4\u001b[39m\u001b[38;5;241m+\u001b[39m\u001b[38;5;241m3\u001b[39mj\n\u001b[1;32m----> 2\u001b[0m y \u001b[38;5;241m=\u001b[39m \u001b[38;5;28;43mint\u001b[39;49m\u001b[43m(\u001b[49m\u001b[43mx\u001b[49m\u001b[43m)\u001b[49m\n\u001b[0;32m      3\u001b[0m \u001b[38;5;28mprint\u001b[39m(y, \u001b[38;5;28mtype\u001b[39m(y))\n",
      "\u001b[1;31mTypeError\u001b[0m: int() argument must be a string, a bytes-like object or a real number, not 'complex'"
     ]
    }
   ],
   "source": [
    "x = 4+3j\n",
    "y = int(x)\n",
    "print(y, type(y))"
   ]
  },
  {
   "cell_type": "markdown",
   "metadata": {},
   "source": [
    "Random Number\n",
    "- Python does not have a random() function to make a random number, but Python has a built-in module called random that can be used to make random numbers."
   ]
  },
  {
   "cell_type": "code",
   "execution_count": null,
   "metadata": {},
   "outputs": [
    {
     "name": "stdout",
     "output_type": "stream",
     "text": [
      "4\n"
     ]
    }
   ],
   "source": [
    "## Example\n",
    "# Import the random module, and display a random number from 1 to 9\n",
    "\n",
    "import random as rd \n",
    "print(rd.randrange(1,10)) # `start` is included but `stop` is excluded."
   ]
  },
  {
   "cell_type": "markdown",
   "metadata": {},
   "source": [
    "- Signature: What arguments the function takes.\n",
    "- Docstring: A brief description of what the function does."
   ]
  },
  {
   "cell_type": "code",
   "execution_count": null,
   "metadata": {},
   "outputs": [
    {
     "name": "stdout",
     "output_type": "stream",
     "text": [
      "\u001b[1;31mSignature:\u001b[0m \u001b[0msorted\u001b[0m\u001b[1;33m(\u001b[0m\u001b[0miterable\u001b[0m\u001b[1;33m,\u001b[0m \u001b[1;33m/\u001b[0m\u001b[1;33m,\u001b[0m \u001b[1;33m*\u001b[0m\u001b[1;33m,\u001b[0m \u001b[0mkey\u001b[0m\u001b[1;33m=\u001b[0m\u001b[1;32mNone\u001b[0m\u001b[1;33m,\u001b[0m \u001b[0mreverse\u001b[0m\u001b[1;33m=\u001b[0m\u001b[1;32mFalse\u001b[0m\u001b[1;33m)\u001b[0m\u001b[1;33m\u001b[0m\u001b[1;33m\u001b[0m\u001b[0m\n",
      "\u001b[1;31mDocstring:\u001b[0m\n",
      "Return a new list containing all items from the iterable in ascending order.\n",
      "\n",
      "A custom key function can be supplied to customize the sort order, and the\n",
      "reverse flag can be set to request the result in descending order.\n",
      "\u001b[1;31mType:\u001b[0m      builtin_function_or_method"
     ]
    }
   ],
   "source": [
    "sorted?"
   ]
  },
  {
   "cell_type": "code",
   "execution_count": 9,
   "metadata": {},
   "outputs": [
    {
     "name": "stdout",
     "output_type": "stream",
     "text": [
      "\u001b[1;31mSignature:\u001b[0m \u001b[0mprint\u001b[0m\u001b[1;33m(\u001b[0m\u001b[1;33m*\u001b[0m\u001b[0margs\u001b[0m\u001b[1;33m,\u001b[0m \u001b[0msep\u001b[0m\u001b[1;33m=\u001b[0m\u001b[1;34m' '\u001b[0m\u001b[1;33m,\u001b[0m \u001b[0mend\u001b[0m\u001b[1;33m=\u001b[0m\u001b[1;34m'\\n'\u001b[0m\u001b[1;33m,\u001b[0m \u001b[0mfile\u001b[0m\u001b[1;33m=\u001b[0m\u001b[1;32mNone\u001b[0m\u001b[1;33m,\u001b[0m \u001b[0mflush\u001b[0m\u001b[1;33m=\u001b[0m\u001b[1;32mFalse\u001b[0m\u001b[1;33m)\u001b[0m\u001b[1;33m\u001b[0m\u001b[1;33m\u001b[0m\u001b[0m\n",
      "\u001b[1;31mDocstring:\u001b[0m\n",
      "Prints the values to a stream, or to sys.stdout by default.\n",
      "\n",
      "sep\n",
      "  string inserted between values, default a space.\n",
      "end\n",
      "  string appended after the last value, default a newline.\n",
      "file\n",
      "  a file-like object (stream); defaults to the current sys.stdout.\n",
      "flush\n",
      "  whether to forcibly flush the stream.\n",
      "\u001b[1;31mType:\u001b[0m      builtin_function_or_method"
     ]
    }
   ],
   "source": [
    "print?"
   ]
  },
  {
   "cell_type": "code",
   "execution_count": 5,
   "metadata": {},
   "outputs": [
    {
     "name": "stdout",
     "output_type": "stream",
     "text": [
      "1 3 32\n"
     ]
    }
   ],
   "source": [
    "## Python Casting\n",
    "x = int(1)\n",
    "y = int(3.5)\n",
    "z = int('32') # z = int('32.56') -> ValueError: invalid literal for int() with base 10: '32.56'\n",
    "print(x,y,z)"
   ]
  },
  {
   "cell_type": "code",
   "execution_count": 7,
   "metadata": {},
   "outputs": [
    {
     "name": "stdout",
     "output_type": "stream",
     "text": [
      "1.0 2.5 3.0 4.6\n"
     ]
    }
   ],
   "source": [
    "x = float(1)\n",
    "y = float(2.5)\n",
    "z = float('3')\n",
    "w = float('4.6')\n",
    "print(x,y,z,w)"
   ]
  },
  {
   "cell_type": "code",
   "execution_count": 9,
   "metadata": {},
   "outputs": [
    {
     "name": "stdout",
     "output_type": "stream",
     "text": [
      "ad420 5 3.0\n"
     ]
    }
   ],
   "source": [
    "x = str('ad420')\n",
    "y = str(5)\n",
    "z = str(3.0)\n",
    "print(x,y,z)"
   ]
  },
  {
   "cell_type": "markdown",
   "metadata": {},
   "source": [
    "Python Strings"
   ]
  },
  {
   "cell_type": "code",
   "execution_count": 12,
   "metadata": {},
   "outputs": [
    {
     "name": "stdout",
     "output_type": "stream",
     "text": [
      "It's all right\n",
      "He is calling 'Marry'\n",
      "He is calling \"Raam\"\n"
     ]
    }
   ],
   "source": [
    "# quotes can be used inside a string, as long as they don't match the quotes surrounding the string.\n",
    "print(\"It's all right\")\n",
    "print(\"He is calling 'Marry'\")\n",
    "print('He is calling \"Raam\"')"
   ]
  },
  {
   "cell_type": "code",
   "execution_count": 13,
   "metadata": {},
   "outputs": [
    {
     "name": "stdout",
     "output_type": "stream",
     "text": [
      "Hello\n"
     ]
    }
   ],
   "source": [
    "a = 'Hello'\n",
    "print(a)"
   ]
  },
  {
   "cell_type": "code",
   "execution_count": 17,
   "metadata": {},
   "outputs": [
    {
     "name": "stdout",
     "output_type": "stream",
     "text": [
      "They are very good at maths and computer science,\n",
      "recently are working on machine learning models, which can convert\n",
      "music notes into code in real time.\n"
     ]
    }
   ],
   "source": [
    "# multiline string using 3 single/double quotes\n",
    "a = \"\"\"They are very good at maths and computer science,\n",
    "recently are working on machine learning models, which can convert\n",
    "music notes into code in real time.\"\"\"\n",
    "print(a)"
   ]
  },
  {
   "cell_type": "markdown",
   "metadata": {},
   "source": [
    "Note: Unicode characters are a universal standard that assigns a unique code to every character across languages, symbols, and emojis."
   ]
  },
  {
   "cell_type": "code",
   "execution_count": null,
   "metadata": {},
   "outputs": [
    {
     "name": "stdout",
     "output_type": "stream",
     "text": [
      "e\n"
     ]
    }
   ],
   "source": [
    "a = \"Hello World!\"\n",
    "print(a[1])"
   ]
  },
  {
   "cell_type": "code",
   "execution_count": 26,
   "metadata": {},
   "outputs": [
    {
     "name": "stdout",
     "output_type": "stream",
     "text": [
      "m\n",
      "a\n",
      "n\n",
      "g\n",
      "o\n",
      "5\n",
      "banana"
     ]
    }
   ],
   "source": [
    "# looping through a string\n",
    "s = 'mango'\n",
    "for char in s:\n",
    "    print(char, end='\\n')\n",
    "\n",
    "print(len(s))\n",
    "\n",
    "for char in 'banana':\n",
    "    print(char, end='')"
   ]
  },
  {
   "cell_type": "code",
   "execution_count": 27,
   "metadata": {},
   "outputs": [
    {
     "name": "stdout",
     "output_type": "stream",
     "text": [
      "True\n"
     ]
    }
   ],
   "source": [
    "## 'in' keyword\n",
    "txt = 'The best things in life are free!'\n",
    "print('free' in txt)"
   ]
  },
  {
   "cell_type": "code",
   "execution_count": 29,
   "metadata": {},
   "outputs": [
    {
     "name": "stdout",
     "output_type": "stream",
     "text": [
      "Yes, 'free' is present\n"
     ]
    }
   ],
   "source": [
    "## print only if 'free' is present\n",
    "txt = 'The best things in life are free!'\n",
    "if 'free' in txt:\n",
    "    print(\"Yes, 'free' is present\")"
   ]
  },
  {
   "cell_type": "code",
   "execution_count": 31,
   "metadata": {},
   "outputs": [
    {
     "name": "stdout",
     "output_type": "stream",
     "text": [
      "True\n"
     ]
    }
   ],
   "source": [
    "## 'not in' keyword\n",
    "txt = \"The best things in life are free!\"\n",
    "print('expensive' not in txt)"
   ]
  },
  {
   "cell_type": "code",
   "execution_count": 33,
   "metadata": {},
   "outputs": [
    {
     "name": "stdout",
     "output_type": "stream",
     "text": [
      "Yes, 'expensive' is not present\n"
     ]
    }
   ],
   "source": [
    "txt = \"The best things in life are free!\"\n",
    "if 'expensive' not in txt:\n",
    "    print(\"Yes, 'expensive' is not present\")"
   ]
  },
  {
   "cell_type": "markdown",
   "metadata": {},
   "source": [
    "Slicing Strings"
   ]
  },
  {
   "cell_type": "code",
   "execution_count": null,
   "metadata": {},
   "outputs": [
    {
     "name": "stdout",
     "output_type": "stream",
     "text": [
      "llo, W\n",
      "Hello, W\n",
      "llo, World!\n",
      "Hello, World!\n",
      "Hlo ol!\n",
      "!dlroW ,olleH\n"
     ]
    }
   ],
   "source": [
    "a = \"Hello, World!\"\n",
    "print(a[2:8])\n",
    "print(a[:8])\n",
    "print(a[2:])\n",
    "print(a[:])\n",
    "print(a[::2])\n",
    "print(a[::-1]) # (-)ve step => traverse in reverse"
   ]
  },
  {
   "cell_type": "code",
   "execution_count": 47,
   "metadata": {},
   "outputs": [
    {
     "name": "stdout",
     "output_type": "stream",
     "text": [
      "Ratha\n"
     ]
    }
   ],
   "source": [
    "# negative indexing - to start the slice from the end of the string but \n",
    "#                     slicing will occur form left to right.\n",
    "b = \"Hello World!, I am Shivam Rathaur\"\n",
    "print(b[-7:-2])"
   ]
  },
  {
   "cell_type": "markdown",
   "metadata": {},
   "source": [
    "Modify Strings"
   ]
  },
  {
   "cell_type": "code",
   "execution_count": 53,
   "metadata": {},
   "outputs": [
    {
     "name": "stdout",
     "output_type": "stream",
     "text": [
      "HELLO! WORLD\n",
      "hello! world\n"
     ]
    }
   ],
   "source": [
    "s = \"Hello! World\"\n",
    "print(s.upper()) # `upper` method\n",
    "print(s.lower()) # 'lower' method"
   ]
  },
  {
   "cell_type": "code",
   "execution_count": 55,
   "metadata": {},
   "outputs": [
    {
     "name": "stdout",
     "output_type": "stream",
     "text": [
      "I am Shivam Rathore\n"
     ]
    }
   ],
   "source": [
    "## strip() method: removes any whitespaces from the beginning or the end\n",
    "txt = ' I am Shivam Rathore  '\n",
    "print(txt.strip()) # returns \"I am Shivam Rathore\""
   ]
  },
  {
   "cell_type": "code",
   "execution_count": 56,
   "metadata": {},
   "outputs": [
    {
     "name": "stdout",
     "output_type": "stream",
     "text": [
      "Hello World:)\n"
     ]
    }
   ],
   "source": [
    "# replace() method: replaces a string with another string\n",
    "a = \"Hello World!\"\n",
    "print(a.replace('!',':)'))"
   ]
  },
  {
   "cell_type": "code",
   "execution_count": 64,
   "metadata": {},
   "outputs": [
    {
     "name": "stdout",
     "output_type": "stream",
     "text": [
      "['Hell', ' W', 'rld!']\n",
      "['Hello', 'World!']\n",
      "['Hell', ' World!']\n"
     ]
    }
   ],
   "source": [
    "# split() method: used to divide a string into a list of substrings based on a specified separator.\n",
    "a = 'Hello World!'\n",
    "print(a.split('o'))\n",
    "print(a.split())\n",
    "print(a.split('o', 1))"
   ]
  },
  {
   "cell_type": "markdown",
   "metadata": {},
   "source": [
    "String Concatenation"
   ]
  },
  {
   "cell_type": "code",
   "execution_count": 68,
   "metadata": {},
   "outputs": [
    {
     "name": "stdout",
     "output_type": "stream",
     "text": [
      "HelloWorld!\n",
      "Hello World!\n"
     ]
    }
   ],
   "source": [
    "a = 'Hello'\n",
    "b = 'World!'\n",
    "c = a + b # concatenate\n",
    "print(c)\n",
    "print(a + \" \" + b)"
   ]
  },
  {
   "cell_type": "markdown",
   "metadata": {},
   "source": [
    "String Format"
   ]
  },
  {
   "cell_type": "code",
   "execution_count": 70,
   "metadata": {},
   "outputs": [
    {
     "ename": "TypeError",
     "evalue": "can only concatenate str (not \"int\") to str",
     "output_type": "error",
     "traceback": [
      "\u001b[1;31m---------------------------------------------------------------------------\u001b[0m",
      "\u001b[1;31mTypeError\u001b[0m                                 Traceback (most recent call last)",
      "Cell \u001b[1;32mIn[70], line 2\u001b[0m\n\u001b[0;32m      1\u001b[0m age \u001b[38;5;241m=\u001b[39m \u001b[38;5;241m20\u001b[39m\n\u001b[1;32m----> 2\u001b[0m txt \u001b[38;5;241m=\u001b[39m \u001b[38;5;124;43m'\u001b[39;49m\u001b[38;5;124;43mMy name is Shivam Rathore, I am \u001b[39;49m\u001b[38;5;124;43m'\u001b[39;49m\u001b[43m \u001b[49m\u001b[38;5;241;43m+\u001b[39;49m\u001b[43m \u001b[49m\u001b[43mage\u001b[49m \u001b[38;5;241m+\u001b[39m \u001b[38;5;124m'\u001b[39m\u001b[38;5;124myears old.\u001b[39m\u001b[38;5;124m'\u001b[39m\n\u001b[0;32m      3\u001b[0m \u001b[38;5;28mprint\u001b[39m(txt)\n",
      "\u001b[1;31mTypeError\u001b[0m: can only concatenate str (not \"int\") to str"
     ]
    }
   ],
   "source": [
    "age = 20\n",
    "txt = 'My name is Shivam Rathore, I am ' + age + 'years old.'\n",
    "print(txt)"
   ]
  },
  {
   "cell_type": "markdown",
   "metadata": {},
   "source": [
    "F-Strings"
   ]
  },
  {
   "cell_type": "code",
   "execution_count": 76,
   "metadata": {},
   "outputs": [
    {
     "name": "stdout",
     "output_type": "stream",
     "text": [
      "My name is Shivam Rathore, I am 20 years old.\n"
     ]
    }
   ],
   "source": [
    "age = 20\n",
    "txt = f\"My name is Shivam Rathore, I am {age} years old.\" # {} -> placeholder\n",
    "print(txt)\n",
    "\n",
    "# A placeholder can contain variables, operations, functions, and modifiers to format the value."
   ]
  },
  {
   "cell_type": "code",
   "execution_count": 78,
   "metadata": {},
   "outputs": [
    {
     "name": "stdout",
     "output_type": "stream",
     "text": [
      "The price is 15 dollars\n"
     ]
    }
   ],
   "source": [
    "price = 15\n",
    "txt = f'The price is {price} dollars'\n",
    "print(txt)"
   ]
  },
  {
   "cell_type": "code",
   "execution_count": null,
   "metadata": {},
   "outputs": [
    {
     "name": "stdout",
     "output_type": "stream",
     "text": [
      "The value of PI is 3.14\n"
     ]
    }
   ],
   "source": [
    "# modifier - to format the value\n",
    "pi = 3.14159\n",
    "txt = f'The value of PI is {pi:.2f}' # modifier\n",
    "print(txt)"
   ]
  },
  {
   "cell_type": "markdown",
   "metadata": {},
   "source": [
    "**Note**: A modifier is included by adding a colon `:` followed by a legal formatting type, like .2f which means fixed point number with 2 decimals."
   ]
  },
  {
   "cell_type": "code",
   "execution_count": 81,
   "metadata": {},
   "outputs": [
    {
     "name": "stdout",
     "output_type": "stream",
     "text": [
      "The total price is 152\n"
     ]
    }
   ],
   "source": [
    "txt = f'The total price is {19 * 8}'\n",
    "print(txt)"
   ]
  },
  {
   "cell_type": "markdown",
   "metadata": {},
   "source": [
    "Escape Characters"
   ]
  },
  {
   "cell_type": "code",
   "execution_count": null,
   "metadata": {},
   "outputs": [
    {
     "ename": "SyntaxError",
     "evalue": "invalid syntax. Perhaps you forgot a comma? (2424694372.py, line 2)",
     "output_type": "error",
     "traceback": [
      "\u001b[1;36m  Cell \u001b[1;32mIn[83], line 2\u001b[1;36m\u001b[0m\n\u001b[1;33m    print(\"Hello I am \"Shivam Rathore\" from \"IIT Hyderabad\"\") # error double quotes inside double quotes\u001b[0m\n\u001b[1;37m          ^\u001b[0m\n\u001b[1;31mSyntaxError\u001b[0m\u001b[1;31m:\u001b[0m invalid syntax. Perhaps you forgot a comma?\n"
     ]
    }
   ],
   "source": [
    "# An escape character is a backslsh \\ followed by the character want to insert.\n",
    "print(\"Hello I am \"Shivam Rathore\" from \"IIT Hyderabad\"\") # error double quotes inside double quotes"
   ]
  },
  {
   "cell_type": "code",
   "execution_count": 84,
   "metadata": {},
   "outputs": [
    {
     "name": "stdout",
     "output_type": "stream",
     "text": [
      "Hello I am \"Shivam Rathore\" from \"IIT Hyderabad\"\n"
     ]
    }
   ],
   "source": [
    "print(\"Hello I am \\\"Shivam Rathore\\\" from \\\"IIT Hyderabad\\\"\")"
   ]
  },
  {
   "cell_type": "markdown",
   "metadata": {},
   "source": [
    "- \\\\' - single quote\n",
    "- \\\\\\ - backslash\n",
    "- \\n - new line\n",
    "- \\r - carriage return\n",
    "- \\t - tab\n",
    "- \\b - backspace\n",
    "- \\f - form feed\n",
    "- \\ooo - octal value\n",
    "- \\xhh - hex value"
   ]
  },
  {
   "cell_type": "markdown",
   "metadata": {},
   "source": [
    "String Methods"
   ]
  },
  {
   "cell_type": "markdown",
   "metadata": {},
   "source": [
    "**Note**: All string methods return new values, they don't change the original string."
   ]
  },
  {
   "cell_type": "code",
   "execution_count": 98,
   "metadata": {},
   "outputs": [
    {
     "name": "stdout",
     "output_type": "stream",
     "text": [
      "Hello, world!\n",
      "hello, world!\n",
      "---hello, World!----\n"
     ]
    }
   ],
   "source": [
    "s = \"hello, World!\"\n",
    "print(s.capitalize()) # Hello, world!\n",
    "print(s.casefold()) # hello, world!\n",
    "print(s.center(20, '-')) # center a string within a specified width by padding it with a specified character (default is a space)."
   ]
  },
  {
   "cell_type": "markdown",
   "metadata": {},
   "source": [
    "<div align=\"center\">\n",
    "\n",
    "| Method         | Description                                                     |\n",
    "|----------------|-----------------------------------------------------------------|\n",
    "| `capitalize()` | Converts the first character to upper case                      |\n",
    "| `casefold()`   | Converts string into lower case                                 |\n",
    "| `center()`     | Returns a centered string                                       |\n",
    "| `count()`      | Returns the number of times a specified value occurs in a string|\n",
    "| `encode()`     | Returns an encoded version of the string                        |\n",
    "| `endswith()`   | Returns true if the string ends with the specified value        |\n",
    "| `expandtabs()` | Sets the tab size of the string                                 |\n",
    "| `find()`       | Searches for a value and returns the position where it was found|\n",
    "| `format()`     | Formats specified values in a string                            |\n",
    "| `format_map()` | Formats specified values in a string                            |\n",
    "| `index()`      | Searches for a value and returns the position where it was found|\n",
    "| `isalnum()`    | Returns True if all characters are alphanumeric                 |\n",
    "| `isalpha()`    | Returns True if all characters are alphabetic                   |\n",
    "| `isascii()`    | Returns True if all characters are ASCII                        |\n",
    "| `isdecimal()`  | Returns True if all characters are decimals                     |\n",
    "| `isdigit()`    | Returns True if all characters are digits                       |\n",
    "| `isidentifier()`| Returns True if the string is a valid identifier               |\n",
    "| `islower()`    | Returns True if all characters are lowercase                    |\n",
    "| `isnumeric()`  | Returns True if all characters are numeric                      |\n",
    "| `isprintable()`| Returns True if all characters are printable                    |\n",
    "| `isspace()`    | Returns True if all characters are whitespaces                  |\n",
    "| `istitle()`    | Returns True if the string follows title case rules             |\n",
    "| `isupper()`    | Returns True if all characters are uppercase                    |\n",
    "| `join()`       | Converts elements of an iterable into a string                  |\n",
    "| `ljust()`      | Returns a left-justified version of the string                  |\n",
    "| `lower()`      | Converts a string to lowercase                                  |\n",
    "| `lstrip()`     | Returns a left-trimmed version of the string                    |\n",
    "| `maketrans()`  | Returns a translation table for translations                    |\n",
    "| `partition()`  | Returns a tuple with the string divided into three parts        |\n",
    "| `replace()`    | Returns a string with specified values replaced                 |\n",
    "| `rfind()`      | Searches for a value and returns the last position              |\n",
    "| `rindex()`     | Searches for a value and returns the last position              |\n",
    "| `rjust()`      | Returns a right-justified version of the string                 |\n",
    "| `rpartition()` | Returns a tuple with the string divided into three parts        |\n",
    "| `rsplit()`     | Splits the string at the specified separator from the right     |\n",
    "| `rstrip()`     | Returns a right-trimmed version of the string                   |\n",
    "| `split()`      | Splits the string at the specified separator                    |\n",
    "| `splitlines()` | Splits the string at line breaks                                |\n",
    "| `startswith()` | Returns true if the string starts with the specified value      |\n",
    "| `strip()`      | Returns a trimmed version of the string                         |\n",
    "| `swapcase()`   | Swaps uppercase to lowercase and vice versa                     |\n",
    "| `title()`      | Converts the first character of each word to uppercase          |\n",
    "| `translate()`  | Returns a translated string                                     |\n",
    "| `upper()`      | Converts a string to uppercase                                  |\n",
    "| `zfill()`      | Pads the string with zeros on the left                          |\n",
    "\n",
    "</div>\n"
   ]
  },
  {
   "cell_type": "markdown",
   "metadata": {},
   "source": [
    "Boolean Values: True or False"
   ]
  },
  {
   "cell_type": "code",
   "execution_count": 102,
   "metadata": {},
   "outputs": [
    {
     "name": "stdout",
     "output_type": "stream",
     "text": [
      "True\n",
      "False\n",
      "False\n"
     ]
    }
   ],
   "source": [
    "print(10 > 9)\n",
    "print(10 == 9)\n",
    "print(10 < 9)"
   ]
  },
  {
   "cell_type": "code",
   "execution_count": 103,
   "metadata": {},
   "outputs": [
    {
     "name": "stdout",
     "output_type": "stream",
     "text": [
      "50 is not greater than 120\n"
     ]
    }
   ],
   "source": [
    "a = 120\n",
    "b = 50\n",
    "\n",
    "if b > a:\n",
    "    print(f'{b} is greater than {a}')\n",
    "else:\n",
    "    print(f'{b} is not greater than {a}')    "
   ]
  },
  {
   "cell_type": "markdown",
   "metadata": {},
   "source": [
    "- Almost any value is evaluated to `True` if it has some sort of content.\n",
    "- Any string is `True`, except empty strings.\n",
    "- Any number is `True`, except `0`.\n",
    "- Any list, tuple, set, and dictionary are `True`, except empty ones."
   ]
  },
  {
   "cell_type": "code",
   "execution_count": null,
   "metadata": {},
   "outputs": [
    {
     "name": "stdout",
     "output_type": "stream",
     "text": [
      "True\n",
      "True\n",
      "False\n",
      "False\n",
      "False\n",
      "False\n",
      "False\n",
      "False\n",
      "False\n"
     ]
    }
   ],
   "source": [
    "## bool() function: evaluate any value, and return True or False\n",
    "print(bool('Hello'))\n",
    "print(bool(15))\n",
    "print(bool('')) # empty string\n",
    "print(bool(0))\n",
    "print(bool([])) # empty list\n",
    "print(bool(())) # empty tuple\n",
    "print(bool({})) # empty dictionary\n",
    "print(bool(None)) # False\n",
    "print(bool(False)) # False"
   ]
  },
  {
   "cell_type": "markdown",
   "metadata": {},
   "source": [
    "One more value, or object in this case, evaluates to `False`, and that is if you have an object that is made from a class with a `__len__` function that returns `0` or `False`"
   ]
  },
  {
   "cell_type": "code",
   "execution_count": 112,
   "metadata": {},
   "outputs": [
    {
     "name": "stdout",
     "output_type": "stream",
     "text": [
      "False\n"
     ]
    }
   ],
   "source": [
    "class myclass():\n",
    "    def __len__(self):\n",
    "        return 0\n",
    "    \n",
    "myobj = myclass()\n",
    "print(bool(myobj))    "
   ]
  },
  {
   "cell_type": "code",
   "execution_count": 113,
   "metadata": {},
   "outputs": [
    {
     "name": "stdout",
     "output_type": "stream",
     "text": [
      "True\n"
     ]
    }
   ],
   "source": [
    "# function can return a boolean value\n",
    "def func():\n",
    "    return True\n",
    "\n",
    "print(func())"
   ]
  },
  {
   "cell_type": "code",
   "execution_count": null,
   "metadata": {},
   "outputs": [
    {
     "name": "stdout",
     "output_type": "stream",
     "text": [
      "YES!\n"
     ]
    }
   ],
   "source": [
    "## Print \"YES!\" if the function returns True, otherwise print \"NO!\":\n",
    "\n",
    "def myFunction() :\n",
    "  return True\n",
    "\n",
    "if myFunction():\n",
    "    print('YES!')\n",
    "else:\n",
    "    print(\"NO!\") "
   ]
  },
  {
   "cell_type": "code",
   "execution_count": 116,
   "metadata": {},
   "outputs": [
    {
     "name": "stdout",
     "output_type": "stream",
     "text": [
      "False\n",
      "True\n"
     ]
    }
   ],
   "source": [
    "# isinstance() function: used to determine if an object is of a certain data type\n",
    "x = 15\n",
    "print(isinstance(x, float))\n",
    "print(isinstance(x, int))"
   ]
  },
  {
   "cell_type": "markdown",
   "metadata": {},
   "source": [
    "##### Python Operators "
   ]
  },
  {
   "cell_type": "markdown",
   "metadata": {},
   "source": [
    "Python divides the operators in the following groups:\n",
    "\n",
    "- Arithmetic operators (+, -, *, /, %, **, //)\n",
    "- Assignment operators (=, +=, -=, *=, /=, %=, //=, **=, &=, |&, >>=, ^=, <<=, :=)\n",
    "- Comparison operators (==, !=, >, )\n",
    "- Logical operators\n",
    "- Identity operators\n",
    "- Membership operators\n",
    "- Bitwise operators"
   ]
  },
  {
   "cell_type": "code",
   "execution_count": 118,
   "metadata": {},
   "outputs": [
    {
     "name": "stdout",
     "output_type": "stream",
     "text": [
      "10\n"
     ]
    }
   ],
   "source": [
    "print(x:=10) # same as x = 10 then print(x)"
   ]
  },
  {
   "cell_type": "markdown",
   "metadata": {},
   "source": [
    "Python Functions"
   ]
  },
  {
   "cell_type": "code",
   "execution_count": 119,
   "metadata": {},
   "outputs": [
    {
     "name": "stdout",
     "output_type": "stream",
     "text": [
      "Hello from a function\n"
     ]
    }
   ],
   "source": [
    "def my_function():\n",
    "    print(\"Hello from a function\")\n",
    "\n",
    "my_function()    "
   ]
  },
  {
   "cell_type": "code",
   "execution_count": 123,
   "metadata": {},
   "outputs": [
    {
     "name": "stdout",
     "output_type": "stream",
     "text": [
      "Hi Shivam\n",
      "Hi Adarsh\n"
     ]
    }
   ],
   "source": [
    "def my_function(fname):\n",
    "    print('Hi ' + fname)\n",
    "\n",
    "my_function('Shivam')  \n",
    "my_function('Adarsh')"
   ]
  },
  {
   "cell_type": "markdown",
   "metadata": {},
   "source": [
    "Parameters or Arguments?\n",
    "- A parameter is the variable listed inside the parentheses in the function definition.\n",
    "- An argument is the value that is sent to the function when it is called."
   ]
  },
  {
   "cell_type": "code",
   "execution_count": 126,
   "metadata": {},
   "outputs": [
    {
     "name": "stdout",
     "output_type": "stream",
     "text": [
      "Shivam Rathore\n",
      "Adarsh Patel\n"
     ]
    }
   ],
   "source": [
    "def my_function(fname, lname):\n",
    "    print(fname + \" \" + lname)\n",
    "\n",
    "my_function('Shivam','Rathore')  \n",
    "my_function('Adarsh','Patel')"
   ]
  },
  {
   "cell_type": "code",
   "execution_count": 127,
   "metadata": {},
   "outputs": [
    {
     "ename": "TypeError",
     "evalue": "my_function() missing 1 required positional argument: 'lname'",
     "output_type": "error",
     "traceback": [
      "\u001b[1;31m---------------------------------------------------------------------------\u001b[0m",
      "\u001b[1;31mTypeError\u001b[0m                                 Traceback (most recent call last)",
      "Cell \u001b[1;32mIn[127], line 4\u001b[0m\n\u001b[0;32m      1\u001b[0m \u001b[38;5;28;01mdef\u001b[39;00m \u001b[38;5;21mmy_function\u001b[39m(fname, lname):\n\u001b[0;32m      2\u001b[0m     \u001b[38;5;28mprint\u001b[39m(fname \u001b[38;5;241m+\u001b[39m \u001b[38;5;124m\"\u001b[39m\u001b[38;5;124m \u001b[39m\u001b[38;5;124m\"\u001b[39m \u001b[38;5;241m+\u001b[39m lname)\n\u001b[1;32m----> 4\u001b[0m \u001b[43mmy_function\u001b[49m\u001b[43m(\u001b[49m\u001b[38;5;124;43m'\u001b[39;49m\u001b[38;5;124;43mShivam\u001b[39;49m\u001b[38;5;124;43m'\u001b[39;49m\u001b[43m)\u001b[49m  \n\u001b[0;32m      5\u001b[0m my_function(\u001b[38;5;124m'\u001b[39m\u001b[38;5;124mAdarsh\u001b[39m\u001b[38;5;124m'\u001b[39m)\n",
      "\u001b[1;31mTypeError\u001b[0m: my_function() missing 1 required positional argument: 'lname'"
     ]
    }
   ],
   "source": [
    "def my_function(fname, lname):\n",
    "    print(fname + \" \" + lname)\n",
    "\n",
    "my_function('Shivam')  \n",
    "my_function('Adarsh')"
   ]
  },
  {
   "cell_type": "markdown",
   "metadata": {},
   "source": [
    "**Note:** function expects 2 arguments, but gets only 1"
   ]
  },
  {
   "cell_type": "markdown",
   "metadata": {},
   "source": [
    "Arbitrary Arguments, *args\n",
    "- If you do not know how many arguments that will be passed into your function, add a * before the parameter name in the function definition.\n",
    "- This way the function will receive a `tuple of arguments`, and can access the items accordingly"
   ]
  },
  {
   "cell_type": "code",
   "execution_count": 129,
   "metadata": {},
   "outputs": [
    {
     "name": "stdout",
     "output_type": "stream",
     "text": [
      "The youngest child is Marry\n"
     ]
    }
   ],
   "source": [
    "# Arbitrary Arguments, *args\n",
    "def my_function(*kids):\n",
    "    print('The youngest child is', kids[3])\n",
    "\n",
    "my_function('Smith', 'Stark', 'Linus', 'Marry', 'John')\n"
   ]
  },
  {
   "cell_type": "markdown",
   "metadata": {},
   "source": [
    "Keyword Arguments\n",
    "- You can also send arguments with the key = value syntax.\n",
    "- This way the order of the arguments does not matter."
   ]
  },
  {
   "cell_type": "code",
   "execution_count": 130,
   "metadata": {},
   "outputs": [
    {
     "name": "stdout",
     "output_type": "stream",
     "text": [
      "The youngest child is Linus\n"
     ]
    }
   ],
   "source": [
    "def my_function(child3, child2, child1):\n",
    "  print(\"The youngest child is \" + child3)\n",
    "\n",
    "my_function(child1 = \"Emil\", child2 = \"Tobias\", child3 = \"Linus\")"
   ]
  },
  {
   "cell_type": "markdown",
   "metadata": {},
   "source": [
    "**Note:** The phrase `Keyword Arguments` are often shortened to `kwargs` in Python documentations."
   ]
  },
  {
   "cell_type": "markdown",
   "metadata": {},
   "source": [
    "##### Arbitrary Keyword Arguments, **kwargs\n",
    "- If you do not know how many keyword arguments that will be passed into your function, add two asterisk: `**` before the parameter name in the function definition.\n",
    "- This way the function will receive a `dictionary of arguments`, and can access the items accordingly."
   ]
  },
  {
   "cell_type": "code",
   "execution_count": 132,
   "metadata": {},
   "outputs": [
    {
     "name": "stdout",
     "output_type": "stream",
     "text": [
      "The last name of the kid is Henry\n"
     ]
    }
   ],
   "source": [
    "def func(**kids):\n",
    "    print('The last name of the kid is ' + kids['lname'])\n",
    "\n",
    "func(lname = \"Henry\", fname = \"Tye\")    "
   ]
  },
  {
   "cell_type": "code",
   "execution_count": 133,
   "metadata": {},
   "outputs": [
    {
     "name": "stdout",
     "output_type": "stream",
     "text": [
      "I am from USA\n",
      "I am from Australia\n",
      "I am from India\n",
      "I am from Germany\n"
     ]
    }
   ],
   "source": [
    "# default parameter value\n",
    "def func(country = 'India'):\n",
    "    print(f'I am from {country}')\n",
    "\n",
    "func('USA')\n",
    "func('Australia')    \n",
    "func()\n",
    "func('Germany')"
   ]
  },
  {
   "cell_type": "markdown",
   "metadata": {},
   "source": [
    "**Note**: You can send any data types of argument to a function (string, number, list, dictionary etc.), and it will be treated as the same data type inside the function.\n",
    "\n",
    "E.g. if you send a List as an argument, it will still be a List when it reaches the function"
   ]
  },
  {
   "cell_type": "code",
   "execution_count": 134,
   "metadata": {},
   "outputs": [
    {
     "name": "stdout",
     "output_type": "stream",
     "text": [
      "apple\n",
      "mango\n",
      "banana\n"
     ]
    }
   ],
   "source": [
    "## passing a list as an argument\n",
    "\n",
    "def func(fruits):\n",
    "    for fruit in fruits:\n",
    "        print(fruit)\n",
    "\n",
    "fruits = ['apple', 'mango', 'banana']\n",
    "func(fruits)        "
   ]
  },
  {
   "cell_type": "code",
   "execution_count": 139,
   "metadata": {},
   "outputs": [
    {
     "name": "stdout",
     "output_type": "stream",
     "text": [
      "[5, 10, 15, 20, 25, 30, 35, 40, 45, 50]\n",
      "[19, 38, 57, 76, 95, 114, 133, 152, 171, 190]\n",
      "[25, 50, 75, 100, 125, 150, 175, 200, 225, 250]\n"
     ]
    }
   ],
   "source": [
    "# write a function that return table of a number\n",
    "\n",
    "def func(n):\n",
    "    lt = []\n",
    "    for i in range(1,11):\n",
    "        lt.append(n*i)\n",
    "    return lt    \n",
    "\n",
    "print(func(5))\n",
    "print(func(19))\n",
    "print(func(25))"
   ]
  },
  {
   "cell_type": "code",
   "execution_count": null,
   "metadata": {},
   "outputs": [],
   "source": [
    "def func():\n",
    "    pass # function definition can't be empty"
   ]
  },
  {
   "cell_type": "markdown",
   "metadata": {},
   "source": [
    "- Positional Arguments: These are arguments passed to a function in the correct order (position).\n",
    "- Keyword Arguments: You explicitly specify parameter names when passing arguments. This allows you to pass arguments out of order."
   ]
  },
  {
   "cell_type": "markdown",
   "metadata": {},
   "source": [
    "**Note**: We can specify that a function can have `ONLY positional arguments`, or `ONLY keyword arguments`.\n",
    "- `positional arguments`: add `, /` after the arguments.\n",
    "- To specify that a function can have only `keyword arguments`, `add *`, before the arguments:"
   ]
  },
  {
   "cell_type": "code",
   "execution_count": 145,
   "metadata": {},
   "outputs": [
    {
     "name": "stdout",
     "output_type": "stream",
     "text": [
      "-5\n"
     ]
    }
   ],
   "source": [
    "# positional argument\n",
    "def func(x,y,/):\n",
    "    return x-y\n",
    "\n",
    "print(func(10,15))"
   ]
  },
  {
   "cell_type": "code",
   "execution_count": 144,
   "metadata": {},
   "outputs": [
    {
     "name": "stdout",
     "output_type": "stream",
     "text": [
      "5\n"
     ]
    }
   ],
   "source": [
    "# keyword argument\n",
    "def func(*,x,y):\n",
    "    return x-y\n",
    "\n",
    "print(func(y=10,x=15))"
   ]
  },
  {
   "cell_type": "code",
   "execution_count": 146,
   "metadata": {},
   "outputs": [
    {
     "name": "stdout",
     "output_type": "stream",
     "text": [
      "5\n"
     ]
    }
   ],
   "source": [
    "# by default: keyword argument\n",
    "def func(x,y):\n",
    "    return x-y\n",
    "\n",
    "print(func(y=10,x=15))"
   ]
  },
  {
   "cell_type": "code",
   "execution_count": null,
   "metadata": {},
   "outputs": [
    {
     "ename": "TypeError",
     "evalue": "func() got some positional-only arguments passed as keyword arguments: 'x, y'",
     "output_type": "error",
     "traceback": [
      "\u001b[1;31m---------------------------------------------------------------------------\u001b[0m",
      "\u001b[1;31mTypeError\u001b[0m                                 Traceback (most recent call last)",
      "Cell \u001b[1;32mIn[148], line 5\u001b[0m\n\u001b[0;32m      2\u001b[0m \u001b[38;5;28;01mdef\u001b[39;00m \u001b[38;5;21mfunc\u001b[39m(x,y,\u001b[38;5;241m/\u001b[39m):\n\u001b[0;32m      3\u001b[0m     \u001b[38;5;28;01mreturn\u001b[39;00m x\u001b[38;5;241m-\u001b[39my\n\u001b[1;32m----> 5\u001b[0m \u001b[38;5;28mprint\u001b[39m(\u001b[43mfunc\u001b[49m\u001b[43m(\u001b[49m\u001b[43my\u001b[49m\u001b[38;5;241;43m=\u001b[39;49m\u001b[38;5;241;43m10\u001b[39;49m\u001b[43m,\u001b[49m\u001b[43mx\u001b[49m\u001b[38;5;241;43m=\u001b[39;49m\u001b[38;5;241;43m15\u001b[39;49m\u001b[43m)\u001b[49m)\n",
      "\u001b[1;31mTypeError\u001b[0m: func() got some positional-only arguments passed as keyword arguments: 'x, y'"
     ]
    }
   ],
   "source": [
    "# imp. note : adding the , / produce an error if you try to send a keyword argument and vice-versa.\n",
    "def func(x,y,/):\n",
    "    return x-y\n",
    "\n",
    "print(func(y=10,x=15))"
   ]
  },
  {
   "cell_type": "markdown",
   "metadata": {},
   "source": [
    "**Note** : Without the `*,` we are allowed to use positional arguments even if the function expects keyword arguments."
   ]
  },
  {
   "cell_type": "markdown",
   "metadata": {},
   "source": [
    "Comnibe both positional and keyword argument\n",
    "- argument before the `/ ,` are positional-only & argument after the `*,` are keyword-only."
   ]
  },
  {
   "cell_type": "code",
   "execution_count": 151,
   "metadata": {},
   "outputs": [
    {
     "name": "stdout",
     "output_type": "stream",
     "text": [
      "35\n"
     ]
    }
   ],
   "source": [
    "def func(a,b,/,*,c,d):\n",
    "    return a+b+c+d\n",
    "\n",
    "print(func(10,-15, d=25, c=15))"
   ]
  },
  {
   "cell_type": "markdown",
   "metadata": {},
   "source": [
    "Recursion"
   ]
  },
  {
   "cell_type": "code",
   "execution_count": null,
   "metadata": {},
   "outputs": [
    {
     "name": "stdout",
     "output_type": "stream",
     "text": [
      "15\n",
      "55\n",
      "21\n"
     ]
    }
   ],
   "source": [
    "# recursive function to find sum from 1 to n\n",
    "def func(n):\n",
    "    if n==0:\n",
    "        return 0\n",
    "    return n+func(n-1)\n",
    "\n",
    "print(func(5))\n",
    "print(func(10))\n",
    "print(func(6))"
   ]
  },
  {
   "cell_type": "markdown",
   "metadata": {},
   "source": [
    "Python Lambda Function"
   ]
  },
  {
   "cell_type": "markdown",
   "metadata": {},
   "source": [
    "- syntax: `lambda arguments : expression`"
   ]
  },
  {
   "cell_type": "code",
   "execution_count": 156,
   "metadata": {},
   "outputs": [
    {
     "name": "stdout",
     "output_type": "stream",
     "text": [
      "20\n"
     ]
    }
   ],
   "source": [
    "a = lambda x,y : x+y\n",
    "print(a(5,15))"
   ]
  },
  {
   "cell_type": "code",
   "execution_count": 158,
   "metadata": {},
   "outputs": [
    {
     "name": "stdout",
     "output_type": "stream",
     "text": [
      "32\n"
     ]
    }
   ],
   "source": [
    "b = lambda x,y,z : x*y*z\n",
    "print(b(4,1,8))"
   ]
  },
  {
   "cell_type": "code",
   "execution_count": 159,
   "metadata": {},
   "outputs": [],
   "source": [
    "# The power of lambda is better shown when you use them as an anonymous function inside another function.\n",
    "def myfunc(n):\n",
    "    return lambda a : a * n"
   ]
  },
  {
   "cell_type": "code",
   "execution_count": 162,
   "metadata": {},
   "outputs": [
    {
     "name": "stdout",
     "output_type": "stream",
     "text": [
      "10\n",
      "15\n"
     ]
    }
   ],
   "source": [
    "doubler = myfunc(2)\n",
    "print(doubler(5))\n",
    "tripler = myfunc(3)\n",
    "print(tripler(5))"
   ]
  },
  {
   "cell_type": "markdown",
   "metadata": {},
   "source": [
    "**Note**: Use lambda functions when an anonymous function is required for a short period of time."
   ]
  },
  {
   "cell_type": "markdown",
   "metadata": {},
   "source": [
    "#### Arrays"
   ]
  },
  {
   "cell_type": "markdown",
   "metadata": {},
   "source": [
    "**Note**: Python does not have built-in support for Arrays, but Python Lists can be used instead."
   ]
  },
  {
   "cell_type": "code",
   "execution_count": 187,
   "metadata": {},
   "outputs": [
    {
     "name": "stdout",
     "output_type": "stream",
     "text": [
      "['BMW', 'Ford', 'Toyota']\n"
     ]
    }
   ],
   "source": [
    "arr = ['BMW', 'Ford', 'Toyota']\n",
    "print(arr)"
   ]
  },
  {
   "cell_type": "code",
   "execution_count": 188,
   "metadata": {},
   "outputs": [
    {
     "name": "stdout",
     "output_type": "stream",
     "text": [
      "Ford\n"
     ]
    }
   ],
   "source": [
    "print(arr[1])"
   ]
  },
  {
   "cell_type": "code",
   "execution_count": 189,
   "metadata": {},
   "outputs": [
    {
     "data": {
      "text/plain": [
       "3"
      ]
     },
     "execution_count": 189,
     "metadata": {},
     "output_type": "execute_result"
    }
   ],
   "source": [
    "# len() method\n",
    "len(arr)"
   ]
  },
  {
   "cell_type": "code",
   "execution_count": 190,
   "metadata": {},
   "outputs": [
    {
     "name": "stdout",
     "output_type": "stream",
     "text": [
      "BMW Ford Toyota "
     ]
    }
   ],
   "source": [
    "for item in arr:\n",
    "    print(item, end=' ')"
   ]
  },
  {
   "cell_type": "code",
   "execution_count": 191,
   "metadata": {},
   "outputs": [
    {
     "data": {
      "text/plain": [
       "['BMW', 'Ford', 'Toyota', 'Honda']"
      ]
     },
     "execution_count": 191,
     "metadata": {},
     "output_type": "execute_result"
    }
   ],
   "source": [
    "# append() method\n",
    "arr.append('Honda')\n",
    "arr"
   ]
  },
  {
   "cell_type": "code",
   "execution_count": 192,
   "metadata": {},
   "outputs": [
    {
     "name": "stdout",
     "output_type": "stream",
     "text": [
      "Ford\n",
      "['BMW', 'Toyota', 'Honda']\n"
     ]
    }
   ],
   "source": [
    "# pop() method: remove and return item at index (default last).\n",
    "print(arr.pop(1))\n",
    "print(arr)"
   ]
  },
  {
   "cell_type": "code",
   "execution_count": 193,
   "metadata": {},
   "outputs": [
    {
     "name": "stdout",
     "output_type": "stream",
     "text": [
      "['BMW', 'Honda']\n"
     ]
    }
   ],
   "source": [
    "# remove() method: to remove an element (first occurence) from the array(list)\n",
    "arr.remove('Toyota')\n",
    "print(arr)"
   ]
  },
  {
   "cell_type": "markdown",
   "metadata": {},
   "source": [
    "#### Lists/Arrays Methods:\n",
    "<div align=\"center\">\n",
    "\n",
    "| **Method**    | **Description**                                                |\n",
    "|---------------|----------------------------------------------------------------|\n",
    "| `append()`    | Adds an element at the end of the list                         |\n",
    "| `clear()`     | Removes all the elements from the list                         |\n",
    "| `copy()`      | Returns a copy of the list                                     |\n",
    "| `count()`     | Returns the number of elements with the specified value        |\n",
    "| `extend()`    | Add the elements of a list (or any iterable) to the end of the current list |\n",
    "| `index()`     | Returns the index of the first element with the specified value |\n",
    "| `insert()`    | Adds an element at the specified position                      |\n",
    "| `pop()`       | Removes the element at the specified position                  |\n",
    "| `remove()`    | Removes the first item with the specified value                |\n",
    "| `reverse()`   | Reverses the order of the list                                 |\n",
    "| `sort()`      | Sorts the list                                                 |\n",
    "\n",
    "</div>"
   ]
  },
  {
   "cell_type": "markdown",
   "metadata": {},
   "source": [
    "#### Python Classes & Objects"
   ]
  },
  {
   "cell_type": "markdown",
   "metadata": {},
   "source": [
    "- Python is an object oriented programming language.\n",
    "- Almost everything in Python is an object, with its properties(attributes) and methods.\n",
    "- A Class is like an object constructor, or a \"blueprint\" for creating objects."
   ]
  },
  {
   "cell_type": "code",
   "execution_count": 198,
   "metadata": {},
   "outputs": [],
   "source": [
    "# create a class\n",
    "class myClass:\n",
    "    x = 10"
   ]
  },
  {
   "cell_type": "code",
   "execution_count": 199,
   "metadata": {},
   "outputs": [
    {
     "name": "stdout",
     "output_type": "stream",
     "text": [
      "10\n"
     ]
    }
   ],
   "source": [
    "# create an object of the above class\n",
    "p1 = myClass()\n",
    "print(p1.x)"
   ]
  },
  {
   "cell_type": "markdown",
   "metadata": {},
   "source": [
    "The `__init__()` Function: special built-in function in Python classes called a constructor.\n",
    "- All classes have a function called `__init__()`, which is always executed when the class is being initiated.\n",
    "- Use the` __init__()` function to assign values to object properties, or other operations that are necessary to do when the object is being created."
   ]
  },
  {
   "cell_type": "code",
   "execution_count": null,
   "metadata": {},
   "outputs": [
    {
     "name": "stdout",
     "output_type": "stream",
     "text": [
      "Aman 23\n"
     ]
    }
   ],
   "source": [
    "class Student:\n",
    "    def __init__(self, _name, _age):\n",
    "        self.name = _name\n",
    "        self.age = _age\n",
    "\n",
    "p1 = Student('Aman', 23)\n",
    "print(p1.name, p1.age)        "
   ]
  },
  {
   "cell_type": "markdown",
   "metadata": {},
   "source": [
    "**Note**:  The `__init__()` function is called automatically every time the class is being used to create a new object. "
   ]
  },
  {
   "cell_type": "markdown",
   "metadata": {},
   "source": [
    "The `__str__()` function\n",
    "- The` __str__()` function controls what should be returned when the class object is represented as a string.\n",
    "- If the `__str__()` function is not set, the string representation of the object is returned"
   ]
  },
  {
   "cell_type": "code",
   "execution_count": 201,
   "metadata": {},
   "outputs": [
    {
     "name": "stdout",
     "output_type": "stream",
     "text": [
      "<__main__.Student object at 0x00000250D5EB6090>\n"
     ]
    }
   ],
   "source": [
    "# when __str__() is not set\n",
    "class Student:\n",
    "    def __init__(self, _name, _age):\n",
    "        self.name = _name\n",
    "        self.age = _age\n",
    "\n",
    "P1 = Student('Anand', 28)\n",
    "print(P1)        "
   ]
  },
  {
   "cell_type": "markdown",
   "metadata": {},
   "source": [
    "- < >: Indicates that this is an object.\n",
    "- `__main__`: Refers to the main module where the class is defined (i.e., the script being run directly).\n",
    "- .Student: Shows the class name of the object (Student class in this case).\n",
    "- object at: Specifies that this is an object reference.\n",
    "- 0x00000250D5EB6090: This is the memory address where the object is stored (in hexadecimal format).\n",
    "\n",
    "When you print an object directly, Python prints the default representation of the object unless you tell it how to display the object's information."
   ]
  },
  {
   "cell_type": "code",
   "execution_count": 203,
   "metadata": {},
   "outputs": [
    {
     "name": "stdout",
     "output_type": "stream",
     "text": [
      "Anand 28\n"
     ]
    }
   ],
   "source": [
    "## string representation of an object WITH the __str__() function\n",
    "\n",
    "class Student:\n",
    "    def __init__(self, _name, _age):\n",
    "        self.name = _name\n",
    "        self.age = _age\n",
    "\n",
    "    def __str__(self):\n",
    "        return f'{self.name} {self.age}'    \n",
    "\n",
    "P1 = Student('Anand', 28)\n",
    "print(P1)  "
   ]
  },
  {
   "cell_type": "markdown",
   "metadata": {},
   "source": [
    "**Note**: The `__str__()` method customizes how the object is printed."
   ]
  },
  {
   "cell_type": "code",
   "execution_count": null,
   "metadata": {},
   "outputs": [
    {
     "name": "stdout",
     "output_type": "stream",
     "text": [
      "Hi, I am Aman\n"
     ]
    }
   ],
   "source": [
    "## Object Methods: Objects can also contain methods, Methods in objects are functions that belong to the object.\n",
    "\n",
    "# Insert a function that prints a greeting, and execute it on the p1 object\n",
    "class Person:\n",
    "    def __init__(self, _name, _age):\n",
    "        self.name = _name\n",
    "        self.age = _age\n",
    "\n",
    "    def greet(self):\n",
    "        print(f'Hi, I am {self.name}')\n",
    "\n",
    "P1 = Person('Aman', 20)\n",
    "P1.greet()   "
   ]
  },
  {
   "cell_type": "markdown",
   "metadata": {},
   "source": [
    "**Note**: The `self` parameter is a reference to the current instance(object) of the class, and is used to access variables that belong to the class."
   ]
  },
  {
   "cell_type": "code",
   "execution_count": null,
   "metadata": {},
   "outputs": [
    {
     "name": "stdout",
     "output_type": "stream",
     "text": [
      "Hi, Ajay\n",
      "Aman\n",
      "40\n"
     ]
    },
    {
     "ename": "AttributeError",
     "evalue": "'Person' object has no attribute 'age'",
     "output_type": "error",
     "traceback": [
      "\u001b[1;31m---------------------------------------------------------------------------\u001b[0m",
      "\u001b[1;31mAttributeError\u001b[0m                            Traceback (most recent call last)",
      "Cell \u001b[1;32mIn[212], line 26\u001b[0m\n\u001b[0;32m     24\u001b[0m \u001b[38;5;66;03m# delete object's property\u001b[39;00m\n\u001b[0;32m     25\u001b[0m \u001b[38;5;28;01mdel\u001b[39;00m p1\u001b[38;5;241m.\u001b[39mage\n\u001b[1;32m---> 26\u001b[0m \u001b[38;5;28mprint\u001b[39m(\u001b[43mp1\u001b[49m\u001b[38;5;241;43m.\u001b[39;49m\u001b[43mage\u001b[49m)\n\u001b[0;32m     27\u001b[0m \u001b[38;5;66;03m# delete an object\u001b[39;00m\n\u001b[0;32m     28\u001b[0m \u001b[38;5;28;01mdel\u001b[39;00m p2\n",
      "\u001b[1;31mAttributeError\u001b[0m: 'Person' object has no attribute 'age'"
     ]
    }
   ],
   "source": [
    "## The `Self` Parameter\n",
    "# > It does not have to be named `self`, you can call it whatever you like, but it has to be the \n",
    "#   first parameter of any function in the class.\n",
    "\n",
    "## Use the words sillyobject and abcd instead of self\n",
    "\n",
    "class Person:\n",
    "    def __init__(sillyobject, _name, _age):\n",
    "        sillyobject.name = _name\n",
    "        sillyobject.age = _age\n",
    "\n",
    "    def greet(abcd):\n",
    "        print(f'Hi, {abcd.name}')\n",
    "\n",
    "p1 = Person('Ajay', 45)\n",
    "p2 = Person('Aman', 20)\n",
    "p1.greet()     \n",
    "\n",
    "print(p2.name)\n",
    "\n",
    "# set age to 40\n",
    "p1.age = 40\n",
    "print(p1.age)\n",
    "# delete object's property\n",
    "del p1.age\n",
    "print(p1.age)"
   ]
  },
  {
   "cell_type": "code",
   "execution_count": 214,
   "metadata": {},
   "outputs": [
    {
     "ename": "NameError",
     "evalue": "name 'p2' is not defined",
     "output_type": "error",
     "traceback": [
      "\u001b[1;31m---------------------------------------------------------------------------\u001b[0m",
      "\u001b[1;31mNameError\u001b[0m                                 Traceback (most recent call last)",
      "Cell \u001b[1;32mIn[214], line 3\u001b[0m\n\u001b[0;32m      1\u001b[0m \u001b[38;5;66;03m# delete an object\u001b[39;00m\n\u001b[0;32m      2\u001b[0m \u001b[38;5;28;01mdel\u001b[39;00m p2\n\u001b[1;32m----> 3\u001b[0m \u001b[38;5;28mprint\u001b[39m(\u001b[43mp2\u001b[49m\u001b[38;5;241m.\u001b[39mname, p2\u001b[38;5;241m.\u001b[39mage)\n",
      "\u001b[1;31mNameError\u001b[0m: name 'p2' is not defined"
     ]
    }
   ],
   "source": [
    "# delete an object\n",
    "del p2\n",
    "print(p2.name, p2.age)"
   ]
  },
  {
   "cell_type": "code",
   "execution_count": 216,
   "metadata": {},
   "outputs": [],
   "source": [
    "class Student:\n",
    "    pass"
   ]
  },
  {
   "cell_type": "markdown",
   "metadata": {},
   "source": [
    "$Ques:$ When the class object is represented as a string, there is a function that controls what should be returned, which one?\n",
    "1. `__init__()`\n",
    "\n",
    "2. `__str__()`\n",
    "\n",
    "3. `__return__()`\n",
    "\n",
    "- Option B is correct :)"
   ]
  },
  {
   "cell_type": "code",
   "execution_count": null,
   "metadata": {},
   "outputs": [],
   "source": []
  }
 ],
 "metadata": {
  "kernelspec": {
   "display_name": "Python 3",
   "language": "python",
   "name": "python3"
  },
  "language_info": {
   "codemirror_mode": {
    "name": "ipython",
    "version": 3
   },
   "file_extension": ".py",
   "mimetype": "text/x-python",
   "name": "python",
   "nbconvert_exporter": "python",
   "pygments_lexer": "ipython3",
   "version": "3.12.4"
  }
 },
 "nbformat": 4,
 "nbformat_minor": 2
}
